{
  "cells": [
    {
      "cell_type": "markdown",
      "metadata": {
        "id": "view-in-github",
        "colab_type": "text"
      },
      "source": [
        "<a href=\"https://colab.research.google.com/github/Janortop5/Janortop5/blob/main/Henry_ML_Lagos_Lectures_JAX_FLAX.ipynb\" target=\"_parent\"><img src=\"https://colab.research.google.com/assets/colab-badge.svg\" alt=\"Open In Colab\"/></a>"
      ]
    },
    {
      "cell_type": "markdown",
      "source": [
        "![jax_logo.webp](data:image/webp;base64,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)\n",
        "\n",
        "# Building Scalable Machine Learning Models with JAX and FLAX by Henry Ndubuaku\n",
        "\n",
        "This notebook introduces and walks through JAX/FLAX for Machine Learning Engineers of any level!\n",
        "\n",
        "**Prerequisites (Pre-Installed in Colab):**\n",
        "- Python 3.8+\n",
        "- JAX\n",
        "- Flax\n",
        "- Optax\n",
        "- NumPy\n",
        "- Torch"
      ],
      "metadata": {
        "id": "Fj260Jb2maNn"
      },
      "id": "Fj260Jb2maNn"
    },
    {
      "cell_type": "markdown",
      "id": "2ec3c9d2",
      "metadata": {
        "id": "2ec3c9d2"
      },
      "source": [
        "# Section 1: NumPy On Sterioids\n",
        "\n"
      ]
    },
    {
      "cell_type": "code",
      "source": [
        "import jax\n",
        "import jax.numpy as jnp\n",
        "import time\n",
        "import numpy as np\n",
        "import torch\n",
        "\n",
        "def timeit(func):\n",
        "    \"\"\"Function decorator which runs a function 10x and calculates the average execution time\"\"\"\n",
        "    def wrapper(*args, **kwargs):\n",
        "        start = time.time()\n",
        "\n",
        "        for _ in range(10):\n",
        "            result = func(*args, **kwargs)\n",
        "\n",
        "        elapsed = time.time() - start\n",
        "        print(f\"Function '{func.__name__}' executed in {(elapsed/10):.6f} seconds on average\")\n",
        "        return result\n",
        "\n",
        "    return wrapper"
      ],
      "metadata": {
        "id": "iTpe7ltvodnf"
      },
      "id": "iTpe7ltvodnf",
      "execution_count": null,
      "outputs": []
    },
    {
      "cell_type": "code",
      "source": [
        "@timeit\n",
        "def square_numpy(x):\n",
        "    return x ** 2\n",
        "\n",
        "x_np = np.random.uniform(size=(10000, 10000))\n",
        "_ = square_numpy(x_np)"
      ],
      "metadata": {
        "colab": {
          "base_uri": "https://localhost:8080/"
        },
        "id": "znZa7WGHpl3Z",
        "outputId": "5e58ed03-2cc1-495c-fa5c-64f1f748687d"
      },
      "id": "znZa7WGHpl3Z",
      "execution_count": null,
      "outputs": [
        {
          "output_type": "stream",
          "name": "stdout",
          "text": [
            "Function 'square_numpy' executed in 0.130972 seconds on average\n"
          ]
        }
      ]
    },
    {
      "cell_type": "code",
      "source": [
        "@timeit\n",
        "def square_torch(x):\n",
        "    return x ** 2\n",
        "\n",
        "x_torch = torch.rand(10000, 10000)\n",
        "_ = square_torch(x_torch)"
      ],
      "metadata": {
        "colab": {
          "base_uri": "https://localhost:8080/"
        },
        "id": "nShWX2astucm",
        "outputId": "07ffd0b2-85e5-4b25-f226-7f1e74aa479f"
      },
      "id": "nShWX2astucm",
      "execution_count": null,
      "outputs": [
        {
          "output_type": "stream",
          "name": "stdout",
          "text": [
            "Function 'square_torch' executed in 0.077408 seconds on average\n"
          ]
        }
      ]
    },
    {
      "cell_type": "code",
      "source": [
        "@timeit\n",
        "def square_jax(x):\n",
        "    return x ** 2\n",
        "\n",
        "key = jax.random.PRNGKey(0)\n",
        "x_jnp = jax.random.uniform(key, shape=(10000, 10000))\n",
        "_ = square_jax(x_jnp)"
      ],
      "metadata": {
        "colab": {
          "base_uri": "https://localhost:8080/"
        },
        "id": "NCXBoCVuo2ox",
        "outputId": "b6a2ecf0-5f50-4e12-8f1e-ee60f07988ea"
      },
      "id": "NCXBoCVuo2ox",
      "execution_count": null,
      "outputs": [
        {
          "output_type": "stream",
          "name": "stdout",
          "text": [
            "Function 'square_jax' executed in 0.002265 seconds on average\n"
          ]
        }
      ]
    },
    {
      "cell_type": "markdown",
      "source": [
        "# Section 2: J = Just-In-Time compilation\n",
        "\n"
      ],
      "metadata": {
        "id": "ASbBwQqRyLSf"
      },
      "id": "ASbBwQqRyLSf"
    },
    {
      "cell_type": "markdown",
      "source": [
        "1. Operation Fusion:\n",
        "JIT can combine multiple operations into a single, efficient kernel. This minimizes the creation of intermediate arrays and reduces memory overhead, leading to faster execution.\n",
        "\n",
        "2. Reduced Python Overhead:\n",
        "Compiling the function into low-level code, eliminates the overhead associated with the Python interpreter. This is particularly beneficial in tight loops or repeated computations.\n",
        "\n",
        "3. Hardware-Specific Optimization:\n",
        "The JIT compiler can generate code tailored to your specific hardware (like CPU, GPU, or TPU), enabling better use of vectorized instructions and parallel execution.\n",
        "\n",
        "4. Static Analysis and Optimizations:\n",
        "The compiler performs static analysis of the code, enabling optimizations such as constant folding, dead code elimination, and inlining of functions, which further enhances performance.\n",
        "\n",
        "5. Caching of Compiled Code:\n",
        "Once a function is compiled, subsequent calls reuse the compiled code, avoiding repeated compilation overhead."
      ],
      "metadata": {
        "id": "qWO9ZGJwy_aa"
      },
      "id": "qWO9ZGJwy_aa"
    },
    {
      "cell_type": "code",
      "source": [
        "@timeit\n",
        "def square(x):\n",
        "    return x ** 2\n",
        "\n",
        "jitted_square = jax.jit(square)\n",
        "_ = square(x_jnp)\n",
        "_ = jitted_square(x_jnp)"
      ],
      "metadata": {
        "colab": {
          "base_uri": "https://localhost:8080/"
        },
        "id": "y2VgomJPxNnO",
        "outputId": "ad210df2-d506-4ead-9b24-57f50d7c8c4f"
      },
      "id": "y2VgomJPxNnO",
      "execution_count": null,
      "outputs": [
        {
          "output_type": "stream",
          "name": "stdout",
          "text": [
            "Function 'square' executed in 0.000381 seconds on average\n",
            "Function 'square' executed in 0.000143 seconds on average\n"
          ]
        }
      ]
    },
    {
      "cell_type": "code",
      "source": [
        "@timeit\n",
        "def longer_function(x):\n",
        "    \"\"\"The more operations involved, the better its benefits\"\"\"\n",
        "    x = x @ x.T\n",
        "    return x ** 2\n",
        "\n",
        "jitted_longer_function = jax.jit(longer_function)\n",
        "_ = longer_function(x_jnp)\n",
        "_ = jitted_longer_function(x_jnp)"
      ],
      "metadata": {
        "colab": {
          "base_uri": "https://localhost:8080/"
        },
        "id": "ImDesqX2zil4",
        "outputId": "13b95113-5e7e-4547-ed20-c9bbfeeb61f5"
      },
      "id": "ImDesqX2zil4",
      "execution_count": null,
      "outputs": [
        {
          "output_type": "stream",
          "name": "stdout",
          "text": [
            "Function 'longer_function' executed in 0.026375 seconds on average\n",
            "Function 'longer_function' executed in 0.000253 seconds on average\n"
          ]
        }
      ]
    },
    {
      "cell_type": "markdown",
      "source": [
        "# Section 3: A = Automatic Differentiation\n"
      ],
      "metadata": {
        "id": "Ch5uxwmZsfay"
      },
      "id": "Ch5uxwmZsfay"
    },
    {
      "cell_type": "markdown",
      "source": [
        "Under the hood, JAX uses reverse-mode automatic differentiation to compute gradients efficiently. When you apply jax.value_and_grad to a function, it returns a new function that, when called, computes both the original function's output (its value) and the gradient with respect to its inputs."
      ],
      "metadata": {
        "id": "1py7S6qk-fMA"
      },
      "id": "1py7S6qk-fMA"
    },
    {
      "cell_type": "code",
      "source": [
        "def f(x):\n",
        "    return x**3 - 3*x**2 + 2*x\n",
        "\n",
        "grad_f = jax.grad(f)\n",
        "\n",
        "x_val = 3.7\n",
        "print(\"Function value at x =\", x_val, \":\", f(x_val))\n",
        "print(\"Gradient at x =\", x_val, \":\", grad_f(x_val))"
      ],
      "metadata": {
        "colab": {
          "base_uri": "https://localhost:8080/"
        },
        "id": "8ox5Mwemw8oh",
        "outputId": "eeda77ef-a492-4efb-d41d-4260c3835c34"
      },
      "id": "8ox5Mwemw8oh",
      "execution_count": null,
      "outputs": [
        {
          "output_type": "stream",
          "name": "stdout",
          "text": [
            "Function value at x = 3.7 : 16.982999999999997\n",
            "Gradient at x = 3.7 : 20.869999\n"
          ]
        }
      ]
    },
    {
      "cell_type": "code",
      "source": [
        "@jax.value_and_grad\n",
        "def f(x):\n",
        "    return x**3 - 3*x**2 + 2*x\n",
        "\n",
        "x_val = 3.7\n",
        "output, derivative = f(x_val)\n",
        "\n",
        "print(\"Function value at x =\", x_val, \":\", output)\n",
        "print(\"Gradient at x =\", x_val, \":\", derivative)"
      ],
      "metadata": {
        "colab": {
          "base_uri": "https://localhost:8080/"
        },
        "id": "-q2aex-88nbd",
        "outputId": "8b11ed0c-62ef-49aa-db8d-4896aa7beea4"
      },
      "id": "-q2aex-88nbd",
      "execution_count": null,
      "outputs": [
        {
          "output_type": "stream",
          "name": "stdout",
          "text": [
            "Function value at x = 3.7 : 16.983004\n",
            "Gradient at x = 3.7 : 20.869999\n"
          ]
        }
      ]
    },
    {
      "cell_type": "markdown",
      "id": "b00b86eb",
      "metadata": {
        "id": "b00b86eb"
      },
      "source": [
        "# Section 4: X = XLA Compiler"
      ]
    },
    {
      "cell_type": "markdown",
      "source": [
        "XLA (Accelerated Linear Algebra) is the backend that optimizes JAX computations. It lowers functions/model into a unified representation (StableHLO). Image creating your PyTorch model, and executing as Jax!"
      ],
      "metadata": {
        "id": "Cwhv-hbDBZCT"
      },
      "id": "Cwhv-hbDBZCT"
    },
    {
      "cell_type": "code",
      "execution_count": null,
      "id": "1ba613c3",
      "metadata": {
        "id": "1ba613c3",
        "colab": {
          "base_uri": "https://localhost:8080/"
        },
        "outputId": "73f2346a-4bd9-4307-8596-a4fcdc4c3cef"
      },
      "outputs": [
        {
          "output_type": "stream",
          "name": "stdout",
          "text": [
            "HloModule jit_f, entry_computation_layout={(f32[500,500]{1,0}, f32[500,500]{1,0})->f32[500,500]{1,0}}, frontend_attributes={xla.sdy.meshes={}}\n",
            "\n",
            "ENTRY main.6 {\n",
            "  Arg_0.1 = f32[500,500]{1,0} parameter(0)\n",
            "  Arg_1.2 = f32[500,500]{1,0} parameter(1)\n",
            "  dot.3 = f32[500,500]{1,0} dot(Arg_0.1, Arg_1.2), lhs_contracting_dims={1}, rhs_contracting_dims={0}\n",
            "  sine.4 = f32[500,500]{1,0} sine(Arg_0.1)\n",
            "  ROOT add.5 = f32[500,500]{1,0} add(dot.3, sine.4)\n",
            "}\n",
            "\n",
            "\n"
          ]
        }
      ],
      "source": [
        "def f(x, y):\n",
        "    return jnp.dot(x, y) + jnp.sin(x)\n",
        "\n",
        "key = jax.random.PRNGKey(0)\n",
        "x = jax.random.normal(key, (500, 500))\n",
        "y = jax.random.normal(key, (500, 500))\n",
        "\n",
        "lowered = jax.jit(f).lower(x, y)\n",
        "hlo_computation = lowered.compiler_ir(\"hlo\")\n",
        "\n",
        "print(hlo_computation.as_hlo_text())"
      ]
    },
    {
      "cell_type": "code",
      "source": [
        "key = jax.random.PRNGKey(0)\n",
        "x = jax.random.normal(key, (500, 500))\n",
        "y = jax.random.normal(key, (500, 500))\n",
        "\n",
        "result = f(x, y)"
      ],
      "metadata": {
        "id": "9NLK2WdU_HRL"
      },
      "id": "9NLK2WdU_HRL",
      "execution_count": null,
      "outputs": []
    },
    {
      "cell_type": "markdown",
      "source": [
        "# Section 5: JAX is Functional :("
      ],
      "metadata": {
        "id": "1kTE2rZP2oWF"
      },
      "id": "1kTE2rZP2oWF"
    },
    {
      "cell_type": "markdown",
      "source": [
        "- **Immutability:**  \n",
        "  Data in JAX is immutable. Once created, arrays and other objects cannot be modified. This eliminates side effects and makes reasoning about code behavior easier."
      ],
      "metadata": {
        "id": "CWP_oz9U3Qll"
      },
      "id": "CWP_oz9U3Qll"
    },
    {
      "cell_type": "code",
      "source": [
        "# Wrong\n",
        "x = jnp.array([1, 2, 3])\n",
        "x[0] = 10\n",
        "print(x)"
      ],
      "metadata": {
        "id": "BkS9HCNI2QUD"
      },
      "id": "BkS9HCNI2QUD",
      "execution_count": null,
      "outputs": []
    },
    {
      "cell_type": "code",
      "source": [
        "# Correct\n",
        "x = jnp.array([1, 2, 3])\n",
        "x = x.at[0].set(10)\n",
        "print(x)"
      ],
      "metadata": {
        "colab": {
          "base_uri": "https://localhost:8080/"
        },
        "id": "GTRmyOtQ2b3o",
        "outputId": "64a45d2d-bc55-4195-f791-32e036588b22"
      },
      "id": "GTRmyOtQ2b3o",
      "execution_count": null,
      "outputs": [
        {
          "output_type": "stream",
          "name": "stdout",
          "text": [
            "[10  2  3]\n"
          ]
        }
      ]
    },
    {
      "cell_type": "markdown",
      "source": [
        "- **Pure Functions:**  \n",
        "  Functions in JAX are expected to be *pure*, meaning they always produce the same output for the same inputs and do not alter any external state. Pure functions are easier to debug and are essential for reliable transformations like just-in-time compilation (`jit`) and automatic differentiation (`grad`)."
      ],
      "metadata": {
        "id": "f9NVU-120pXi"
      },
      "id": "f9NVU-120pXi"
    },
    {
      "cell_type": "code",
      "source": [
        "counter = 0\n",
        "\n",
        "def impure_function(x):\n",
        "    global counter        # Access and modify the external state\n",
        "    counter += 1          # Side effect: modifies global variable\n",
        "    return x + counter    # Will not return the same result when called again\n",
        "\n",
        "def pure_function(x, counter):\n",
        "    return x + counter    # Does affect or rely on external variables and returns same results"
      ],
      "metadata": {
        "id": "FJoB3YhY4ses"
      },
      "id": "FJoB3YhY4ses",
      "execution_count": null,
      "outputs": []
    },
    {
      "cell_type": "markdown",
      "source": [
        "- **Explicit State Management:**  \n",
        "  Instead of relying on hidden, mutable state (like NumPy's global random state), JAX requires that all state changes be explicit. For example, random number generation in JAX is handled via passing and updating PRNG keys, ensuring that randomness is reproducible and free of side effects."
      ],
      "metadata": {
        "id": "0BWTcs653WvB"
      },
      "id": "0BWTcs653WvB"
    },
    {
      "cell_type": "code",
      "source": [
        "# Create an initial PRNG key\n",
        "key = jax.random.PRNGKey(0)\n",
        "\n",
        "# Split the key to produce independent subkeys\n",
        "subkey, key = jax.random.split(key)\n",
        "\n",
        "# Use the subkey to generate a random array\n",
        "random_array = jax.random.uniform(subkey, shape=(3,))"
      ],
      "metadata": {
        "id": "jfTUyrG33wZ_"
      },
      "id": "jfTUyrG33wZ_",
      "execution_count": null,
      "outputs": []
    },
    {
      "cell_type": "markdown",
      "source": [
        "- **Function Composition:**  \n",
        "  The functional paradigm encourages building small, composable functions. In JAX, higher-order functions like `jit`, `vmap`, and `grad` transform these small functions, enabling optimizations and parallelism without compromising purity."
      ],
      "metadata": {
        "id": "FEQC9-sg3W6d"
      },
      "id": "FEQC9-sg3W6d"
    },
    {
      "cell_type": "code",
      "source": [
        "def f(x):\n",
        "    return x ** 2\n",
        "\n",
        "def g(x):\n",
        "    return x + x\n",
        "\n",
        "composed = jax.jit(lambda x: g(f(x)))\n",
        "print(\"Computes g(f(2)) = (2^2) + (2^2) = \", composed(2.0))"
      ],
      "metadata": {
        "colab": {
          "base_uri": "https://localhost:8080/"
        },
        "id": "5UZc8Ih43iZq",
        "outputId": "a81d3c5d-ceb9-497c-9386-0c3427da7a20"
      },
      "id": "5UZc8Ih43iZq",
      "execution_count": null,
      "outputs": [
        {
          "output_type": "stream",
          "name": "stdout",
          "text": [
            "Computes g(f(2)) = (2^2) + (2^2) =  8.0\n"
          ]
        }
      ]
    },
    {
      "cell_type": "code",
      "source": [
        "vectorized_composed = jax.vmap(composed)\n",
        "x_array = jnp.array([1,2,3,4,5])\n",
        "print(\"Applies function to each element of x_array: \", vectorized_composed(x_array))"
      ],
      "metadata": {
        "colab": {
          "base_uri": "https://localhost:8080/"
        },
        "id": "pC1OyXIF63T1",
        "outputId": "f4e0b1b0-f793-45be-af7d-a903d041cd94"
      },
      "id": "pC1OyXIF63T1",
      "execution_count": null,
      "outputs": [
        {
          "output_type": "stream",
          "name": "stdout",
          "text": [
            "Applies function to each element of x_array:  [ 2  8 18 32 50]\n"
          ]
        }
      ]
    },
    {
      "cell_type": "markdown",
      "id": "b80d419f",
      "metadata": {
        "id": "b80d419f"
      },
      "source": [
        "# Section 6: Flax & Optax"
      ]
    },
    {
      "cell_type": "code",
      "source": [
        "import jax\n",
        "import jax.numpy as jnp\n",
        "import optax\n",
        "from flax import linen as nn\n",
        "from flax.training.train_state import TrainState\n",
        "import numpy as np"
      ],
      "metadata": {
        "id": "TUySpmt3F7pe"
      },
      "id": "TUySpmt3F7pe",
      "execution_count": null,
      "outputs": []
    },
    {
      "cell_type": "code",
      "execution_count": null,
      "id": "dfb5b94b",
      "metadata": {
        "id": "dfb5b94b"
      },
      "outputs": [],
      "source": [
        "class SimpleMLP(nn.Module):\n",
        "    hidden_features: int = 32\n",
        "\n",
        "    def setup(self):\n",
        "        self.dense1 = nn.Dense(self.hidden_features)\n",
        "        self.dense2 = nn.Dense(1)\n",
        "\n",
        "    def __call__(self, x):\n",
        "        x = self.dense1(x)\n",
        "        x = nn.relu(x)\n",
        "        x = self.dense2(x)\n",
        "        return x\n",
        "\n",
        "def create_train_state(rng, learning_rate, input_shape):\n",
        "    model = SimpleMLP()\n",
        "    params = model.init(rng, jnp.ones(input_shape))\n",
        "    optimizer = optax.adam(learning_rate)\n",
        "    return TrainState.create(apply_fn=model.apply, params=params, tx=optimizer)\n",
        "\n",
        "\n",
        "def loss_fn(params, apply_fn, x, y):\n",
        "    preds = apply_fn(params, x)\n",
        "    loss = jnp.mean((preds - y) ** 2)\n",
        "    return loss\n",
        "\n",
        "\n",
        "@jax.jit\n",
        "def train_step(state, x, y):\n",
        "    grad_fn = jax.value_and_grad(loss_fn)\n",
        "    loss, grads = grad_fn(state.params, state.apply_fn, x, y)\n",
        "    state = state.apply_gradients(grads=grads)\n",
        "    return state, loss\n"
      ]
    },
    {
      "cell_type": "code",
      "source": [
        "def train_model(num_epochs=10, batch_size=32, learning_rate=1e-3):\n",
        "    # Create training state\n",
        "    rng = jax.random.PRNGKey(0)\n",
        "    input_dim = 10\n",
        "    state = create_train_state(rng, learning_rate, (1, input_dim))\n",
        "\n",
        "    # Our dummy data\n",
        "    num_samples = 10240\n",
        "    X = np.random.randn(num_samples, input_dim).astype(np.float32)\n",
        "    true_w = np.random.randn(input_dim, 1).astype(np.float32)\n",
        "    y = X @ true_w + np.random.randn(num_samples, 1).astype(np.float32) * 0.1\n",
        "\n",
        "    # Epoch iteration\n",
        "    for epoch in range(num_epochs):\n",
        "        perm = np.random.permutation(num_samples)\n",
        "        X, y = X[perm], y[perm]\n",
        "        epoch_loss = 0.0\n",
        "        num_batches = num_samples // batch_size\n",
        "\n",
        "        # Batch iteration\n",
        "        for i in range(num_batches):\n",
        "            batch_x = X[i * batch_size:(i + 1) * batch_size]\n",
        "            batch_y = y[i * batch_size:(i + 1) * batch_size]\n",
        "            state, loss = train_step(state, batch_x, batch_y)\n",
        "            epoch_loss += loss.item()\n",
        "\n",
        "        print(f\"Epoch {epoch+1}, Loss: {epoch_loss / num_batches:.4f}\")\n",
        "\n",
        "    return state\n",
        "\n",
        "if __name__ == \"__main__\":\n",
        "    final_state = train_model()\n",
        "    params = final_state.params"
      ],
      "metadata": {
        "colab": {
          "base_uri": "https://localhost:8080/"
        },
        "id": "eEsK0fYwF4tO",
        "outputId": "63eef5c0-96dc-4198-e6c6-e34a267a940d"
      },
      "id": "eEsK0fYwF4tO",
      "execution_count": null,
      "outputs": [
        {
          "output_type": "stream",
          "name": "stdout",
          "text": [
            "Epoch 1, Loss: 2.8510\n",
            "Epoch 2, Loss: 0.0856\n",
            "Epoch 3, Loss: 0.0509\n",
            "Epoch 4, Loss: 0.0388\n",
            "Epoch 5, Loss: 0.0331\n",
            "Epoch 6, Loss: 0.0295\n",
            "Epoch 7, Loss: 0.0266\n",
            "Epoch 8, Loss: 0.0241\n",
            "Epoch 9, Loss: 0.0217\n",
            "Epoch 10, Loss: 0.0197\n"
          ]
        }
      ]
    },
    {
      "cell_type": "markdown",
      "source": [
        "- **Parameters is a simple dictionary**"
      ],
      "metadata": {
        "id": "ya0olgN5INz4"
      },
      "id": "ya0olgN5INz4"
    },
    {
      "cell_type": "code",
      "source": [
        "print(params)"
      ],
      "metadata": {
        "id": "JSi9WCwuGMyp"
      },
      "id": "JSi9WCwuGMyp",
      "execution_count": null,
      "outputs": []
    },
    {
      "cell_type": "markdown",
      "id": "db0fe0e5",
      "metadata": {
        "id": "db0fe0e5"
      },
      "source": [
        "# Section 7: Performance Optimization"
      ]
    },
    {
      "cell_type": "markdown",
      "source": [
        "- **PyTrees**: tree-like data structures used in JAX to organise and manage nested collections of data, such as parameters in neural networks. They allow for a uniform interface to traverse, transform, and reduce nested structures—regardless of whether they are dictionaries, lists, tuples, or more complex custom objects. This standardized handling is crucial for efficiently computing gradients, applying transformations, and managing the state of models during training."
      ],
      "metadata": {
        "id": "cQEqO7yIIT7z"
      },
      "id": "cQEqO7yIIT7z"
    },
    {
      "cell_type": "code",
      "source": [
        "from jax.tree_util import tree_map\n",
        "\n",
        "def convert_to_fp16(params):\n",
        "\n",
        "    def convert_leaf(x):\n",
        "        if isinstance(x, jnp.ndarray):\n",
        "            return x.astype(jnp.float16)\n",
        "        return x\n",
        "\n",
        "    return tree_map(convert_leaf, params)\n",
        "\n",
        "params = convert_to_fp16(params)"
      ],
      "metadata": {
        "id": "nhaNZK3uFzvl"
      },
      "id": "nhaNZK3uFzvl",
      "execution_count": null,
      "outputs": []
    },
    {
      "cell_type": "code",
      "source": [
        "from jax.tree_util import tree_leaves\n",
        "\n",
        "num_params = sum(x.size for x in tree_leaves(params))\n",
        "print(num_params)"
      ],
      "metadata": {
        "colab": {
          "base_uri": "https://localhost:8080/"
        },
        "id": "W4F5Gu8NKjX5",
        "outputId": "9617a5db-ec40-4b0a-82bb-a7e65067643a"
      },
      "id": "W4F5Gu8NKjX5",
      "execution_count": null,
      "outputs": [
        {
          "output_type": "stream",
          "name": "stdout",
          "text": [
            "385\n"
          ]
        }
      ]
    },
    {
      "cell_type": "markdown",
      "source": [
        "- **Vmap**"
      ],
      "metadata": {
        "id": "VcLPMsnvaH_z"
      },
      "id": "VcLPMsnvaH_z"
    },
    {
      "cell_type": "code",
      "source": [
        "row, col = 200, 200\n",
        "x = jnp.arange(row * col).reshape((row,col))\n",
        "\n",
        "@jax.vmap\n",
        "def softmax(x):\n",
        "    x_max = jnp.max(x)\n",
        "    exp_x = jnp.exp(x - x_max)\n",
        "    return exp_x / jnp.sum(exp_x)\n",
        "\n",
        "y = softmax(x)\n",
        "print(jnp.sum(y, axis=1))"
      ],
      "metadata": {
        "id": "XVW87rxEaF4s"
      },
      "id": "XVW87rxEaF4s",
      "execution_count": null,
      "outputs": []
    },
    {
      "cell_type": "markdown",
      "source": [
        "- **Learning Rate Schedules**"
      ],
      "metadata": {
        "id": "aTePp3DMNN3l"
      },
      "id": "aTePp3DMNN3l"
    },
    {
      "cell_type": "code",
      "source": [
        "def create_train_state(rng, learning_rate, input_shape):\n",
        "    model = SimpleMLP()\n",
        "    params = model.init(rng, jnp.ones(input_shape))\n",
        "\n",
        "    lr_schedule = optax.exponential_decay(\n",
        "        init_value=learning_rate,\n",
        "        transition_steps=10,\n",
        "        decay_rate=0.99,\n",
        "        staircase=True\n",
        "    )\n",
        "\n",
        "    optimizer = optax.chain(\n",
        "        optax.adam(learning_rate=1E-1),\n",
        "        optax.scale_by_schedule(lr_schedule),\n",
        "        optax.scale(-1.0)\n",
        "    )\n",
        "\n",
        "    return TrainState.create(apply_fn=model.apply, params=params, tx=optimizer)"
      ],
      "metadata": {
        "id": "9XNm8CR4NIaZ"
      },
      "id": "9XNm8CR4NIaZ",
      "execution_count": null,
      "outputs": []
    },
    {
      "cell_type": "markdown",
      "source": [
        "- **Gradient Accumulation**"
      ],
      "metadata": {
        "id": "gE02bZRKOxJw"
      },
      "id": "gE02bZRKOxJw"
    },
    {
      "cell_type": "code",
      "source": [
        "def loss_fn(params, apply_fn, x, y):\n",
        "    preds = apply_fn(params, x)\n",
        "    loss = jnp.mean((preds - y) ** 2)\n",
        "    return loss\n",
        "\n",
        "@jax.jit\n",
        "def compute_grads(state, x, y):\n",
        "    grad_fn = jax.value_and_grad(loss_fn)\n",
        "    loss, grads = grad_fn(state.params, state.apply_fn, x, y)\n",
        "    return loss, grads\n",
        "\n",
        "def train_model(num_epochs=10, batch_size=32, accum_steps=4, base_learning_rate=1e-3):\n",
        "    rng = jax.random.PRNGKey(0)\n",
        "    input_dim = 10\n",
        "    state = create_train_state(rng, base_learning_rate, (1, input_dim))\n",
        "\n",
        "    # Our dumy data\n",
        "    num_samples = 10240\n",
        "    X = np.random.randn(num_samples, input_dim).astype(np.float32)\n",
        "    true_w = np.random.randn(input_dim, 1).astype(np.float32)\n",
        "    y = X @ true_w + np.random.randn(num_samples, 1).astype(np.float32) * 0.1\n",
        "\n",
        "    num_batches = num_samples // batch_size\n",
        "\n",
        "    for epoch in range(num_epochs):\n",
        "        perm = np.random.permutation(num_samples)\n",
        "        X, y = X[perm], y[perm]\n",
        "        epoch_loss = 0.0\n",
        "\n",
        "        # Initialize accumulation variables.\n",
        "        accum_grads = None\n",
        "        accum_loss = 0.0\n",
        "        counter = 0\n",
        "\n",
        "        for i in range(num_batches):\n",
        "            batch_x = X[i * batch_size:(i + 1) * batch_size]\n",
        "            batch_y = y[i * batch_size:(i + 1) * batch_size]\n",
        "            loss, grads = compute_grads(state, batch_x, batch_y)\n",
        "            accum_loss += loss\n",
        "            counter += 1\n",
        "\n",
        "            # Accumulate gradients.\n",
        "            if accum_grads is None:\n",
        "                accum_grads = grads\n",
        "            else:\n",
        "                accum_grads = jax.tree_util.tree_map(lambda a, b: a + b, accum_grads, grads)\n",
        "\n",
        "            # When we've accumulated enough steps, update the model.\n",
        "            if counter % accum_steps == 0:\n",
        "                # Average the gradients.\n",
        "                accum_grads = jax.tree_util.tree_map(lambda g: g / accum_steps, accum_grads)\n",
        "                state = state.apply_gradients(grads=accum_grads)\n",
        "                accum_grads = None  # Reset for next accumulation cycle.\n",
        "                counter = 0\n",
        "\n",
        "        # If any gradients are left over, update with the averaged gradients.\n",
        "        if counter > 0 and accum_grads is not None:\n",
        "            accum_grads = jax.tree_util.tree_map(lambda g: g / counter, accum_grads)\n",
        "            state = state.apply_gradients(grads=accum_grads)\n",
        "\n",
        "        avg_loss = accum_loss / num_batches\n",
        "        print(f\"Epoch {epoch+1}, Loss: {avg_loss:.4f}\")\n",
        "\n",
        "    return state\n",
        "\n",
        "if __name__ == \"__main__\":\n",
        "    final_state = train_model()\n",
        "    params = final_state.params"
      ],
      "metadata": {
        "id": "m-oEFsICO8NF"
      },
      "id": "m-oEFsICO8NF",
      "execution_count": null,
      "outputs": []
    },
    {
      "cell_type": "markdown",
      "id": "1129ad24",
      "metadata": {
        "id": "1129ad24"
      },
      "source": [
        "# Section 8: Sharding and Distribution"
      ]
    },
    {
      "cell_type": "code",
      "source": [
        "num_devices = jax.local_device_count()\n",
        "print(\"Number of TPUs\", num_devices)"
      ],
      "metadata": {
        "colab": {
          "base_uri": "https://localhost:8080/"
        },
        "id": "QfZIi4wtR2OA",
        "outputId": "c0a8c609-e194-4145-b808-a5b59ff416f7"
      },
      "id": "QfZIi4wtR2OA",
      "execution_count": null,
      "outputs": [
        {
          "output_type": "stream",
          "name": "stdout",
          "text": [
            "Number of TPUs 8\n"
          ]
        }
      ]
    },
    {
      "cell_type": "code",
      "source": [
        "# Dummy data\n",
        "M, N, K = 16, 32, 64\n",
        "A = jnp.arange(num_devices * M * N, dtype=jnp.float32)\n",
        "B = jnp.arange(num_devices * N * K, dtype=jnp.float32)"
      ],
      "metadata": {
        "id": "h5YkqNamSM69"
      },
      "id": "h5YkqNamSM69",
      "execution_count": null,
      "outputs": []
    },
    {
      "cell_type": "markdown",
      "source": [
        "- **Pmap**: Distributes your compute to multiple TPUs."
      ],
      "metadata": {
        "id": "UQHKgWFgPiFC"
      },
      "id": "UQHKgWFgPiFC"
    },
    {
      "cell_type": "code",
      "source": [
        "@jax.jit\n",
        "def matmul(a, b):\n",
        "    return jnp.dot(a, b)\n",
        "\n",
        "A_reshaped = A.reshape(num_devices, M, N)\n",
        "B_reshaped = B.reshape(num_devices, N, K)\n",
        "\n",
        "pmap_matmul = jax.pmap(matmul)\n",
        "result = pmap_matmul(A_reshaped, B_reshaped)\n",
        "\n",
        "print(\"Result shape:\", result.shape)"
      ],
      "metadata": {
        "colab": {
          "base_uri": "https://localhost:8080/"
        },
        "id": "8grlx5BrPdxz",
        "outputId": "138397b5-23c7-4266-a742-f37285ffeb96"
      },
      "id": "8grlx5BrPdxz",
      "execution_count": null,
      "outputs": [
        {
          "output_type": "stream",
          "name": "stdout",
          "text": [
            "Result shape: (8, 16, 64)\n"
          ]
        }
      ]
    },
    {
      "cell_type": "markdown",
      "source": [
        "- **Pjit and Mesh**: Are designed for scenarios where you need to carefully control how your computations are distributed and how data is laid out across devices, offering a more customizable alternative to pmap for parallel and distributed computing in JAX.\n",
        "\n",
        "![v4-topologies.png](data:image/png;base64,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)\n"
      ],
      "metadata": {
        "id": "DbptMmSjRiq0"
      },
      "id": "DbptMmSjRiq0"
    },
    {
      "cell_type": "code",
      "source": [
        "from jax.experimental.pjit import pjit\n",
        "from jax.sharding import Mesh, PartitionSpec\n",
        "\n",
        "def matmul(a, b):\n",
        "    return jnp.dot(a, b)\n",
        "\n",
        "devices = np.array(jax.devices())\n",
        "\n",
        "mesh_x, mesh_y, mesh_z = 2, 2, 2\n",
        "\n",
        "mesh = Mesh(\n",
        "    devices.reshape(mesh_x, mesh_y, mesh_z),\n",
        "    ('mesh_x', 'mesh_y', 'mesh_z')\n",
        ")\n",
        "\n",
        "A_partition = PartitionSpec('mesh_x', 'mesh_y', 'mesh_z', None, None)\n",
        "B_partition = PartitionSpec('mesh_x', 'mesh_y', 'mesh_z', None, None)\n",
        "out_partition = PartitionSpec('mesh_x', 'mesh_y', 'mesh_z', None, None)\n",
        "\n",
        "A_reshaped = A.reshape(mesh_x, mesh_y, mesh_z, M, N)\n",
        "B_reshaped = B.reshape(mesh_x, mesh_y, mesh_z, N, K)\n",
        "\n",
        "pjit_matmul = pjit(\n",
        "    matmul,\n",
        "    in_shardings=(A_partition, B_partition),\n",
        "    out_shardings=out_partition,\n",
        ")\n",
        "\n",
        "with mesh:\n",
        "    result = pjit_matmul(A_reshaped, B_reshaped)\n",
        "\n",
        "print(\"Number of devices:\", num_devices)\n",
        "print(\"Result shape:\", result.shape)\n",
        "print(\"\")"
      ],
      "metadata": {
        "colab": {
          "base_uri": "https://localhost:8080/"
        },
        "id": "0CWBBANARfc1",
        "outputId": "8e5aabe1-dd53-4cfb-e5c9-b313eb641a54"
      },
      "id": "0CWBBANARfc1",
      "execution_count": null,
      "outputs": [
        {
          "output_type": "stream",
          "name": "stdout",
          "text": [
            "Number of devices: 8\n",
            "Result shape: (2, 2, 2, 16, 2, 2, 2, 64)\n",
            "\n"
          ]
        }
      ]
    },
    {
      "cell_type": "markdown",
      "source": [
        "# Section 9: NanoDL, Maxtext, MaxDiffusion"
      ],
      "metadata": {
        "id": "dG2vHh5yCw6P"
      },
      "id": "dG2vHh5yCw6P"
    },
    {
      "cell_type": "code",
      "source": [
        "!pip install nanodl"
      ],
      "metadata": {
        "colab": {
          "base_uri": "https://localhost:8080/"
        },
        "id": "Ox4iZdcCayaf",
        "outputId": "6f30078c-ef1e-4299-df9b-5b18a5f864eb"
      },
      "id": "Ox4iZdcCayaf",
      "execution_count": null,
      "outputs": [
        {
          "output_type": "stream",
          "name": "stdout",
          "text": [
            "Collecting nanodl\n",
            "  Downloading nanodl-0.0.0-py3-none-any.whl.metadata (12 kB)\n",
            "Requirement already satisfied: flax in /usr/local/lib/python3.11/dist-packages (from nanodl) (0.10.3)\n",
            "Requirement already satisfied: jax in /usr/local/lib/python3.11/dist-packages (from nanodl) (0.4.33)\n",
            "Requirement already satisfied: jaxlib in /usr/local/lib/python3.11/dist-packages (from nanodl) (0.4.33)\n",
            "Requirement already satisfied: optax in /usr/local/lib/python3.11/dist-packages (from nanodl) (0.1.9)\n",
            "Collecting einops (from nanodl)\n",
            "  Downloading einops-0.8.1-py3-none-any.whl.metadata (13 kB)\n",
            "Requirement already satisfied: sentencepiece in /usr/local/lib/python3.11/dist-packages (from nanodl) (0.2.0)\n",
            "Requirement already satisfied: numpy>=1.23.2 in /usr/local/lib/python3.11/dist-packages (from flax->nanodl) (1.26.4)\n",
            "Requirement already satisfied: msgpack in /usr/local/lib/python3.11/dist-packages (from flax->nanodl) (1.1.0)\n",
            "Requirement already satisfied: orbax-checkpoint in /usr/local/lib/python3.11/dist-packages (from flax->nanodl) (0.6.4)\n",
            "Requirement already satisfied: tensorstore in /usr/local/lib/python3.11/dist-packages (from flax->nanodl) (0.1.71)\n",
            "Requirement already satisfied: rich>=11.1 in /usr/local/lib/python3.11/dist-packages (from flax->nanodl) (13.9.4)\n",
            "Requirement already satisfied: typing_extensions>=4.2 in /usr/local/lib/python3.11/dist-packages (from flax->nanodl) (4.12.2)\n",
            "Requirement already satisfied: PyYAML>=5.4.1 in /usr/local/lib/python3.11/dist-packages (from flax->nanodl) (6.0.2)\n",
            "Requirement already satisfied: treescope>=0.1.7 in /usr/local/lib/python3.11/dist-packages (from flax->nanodl) (0.1.8)\n",
            "Requirement already satisfied: ml-dtypes>=0.2.0 in /usr/local/lib/python3.11/dist-packages (from jax->nanodl) (0.4.1)\n",
            "Requirement already satisfied: opt-einsum in /usr/local/lib/python3.11/dist-packages (from jax->nanodl) (3.4.0)\n",
            "Requirement already satisfied: scipy>=1.10 in /usr/local/lib/python3.11/dist-packages (from jax->nanodl) (1.13.1)\n",
            "Requirement already satisfied: absl-py>=0.7.1 in /usr/local/lib/python3.11/dist-packages (from optax->nanodl) (1.4.0)\n",
            "Requirement already satisfied: chex>=0.1.7 in /usr/local/lib/python3.11/dist-packages (from optax->nanodl) (0.1.88)\n",
            "Requirement already satisfied: toolz>=0.9.0 in /usr/local/lib/python3.11/dist-packages (from chex>=0.1.7->optax->nanodl) (1.0.0)\n",
            "Requirement already satisfied: markdown-it-py>=2.2.0 in /usr/local/lib/python3.11/dist-packages (from rich>=11.1->flax->nanodl) (3.0.0)\n",
            "Requirement already satisfied: pygments<3.0.0,>=2.13.0 in /usr/local/lib/python3.11/dist-packages (from rich>=11.1->flax->nanodl) (2.19.1)\n",
            "Requirement already satisfied: etils[epath,epy] in /usr/local/lib/python3.11/dist-packages (from orbax-checkpoint->flax->nanodl) (1.12.0)\n",
            "Requirement already satisfied: nest_asyncio in /usr/local/lib/python3.11/dist-packages (from orbax-checkpoint->flax->nanodl) (1.6.0)\n",
            "Requirement already satisfied: protobuf in /usr/local/lib/python3.11/dist-packages (from orbax-checkpoint->flax->nanodl) (5.29.3)\n",
            "Requirement already satisfied: humanize in /usr/local/lib/python3.11/dist-packages (from orbax-checkpoint->flax->nanodl) (4.11.0)\n",
            "Requirement already satisfied: mdurl~=0.1 in /usr/local/lib/python3.11/dist-packages (from markdown-it-py>=2.2.0->rich>=11.1->flax->nanodl) (0.1.2)\n",
            "Requirement already satisfied: fsspec in /usr/local/lib/python3.11/dist-packages (from etils[epath,epy]->orbax-checkpoint->flax->nanodl) (2025.2.0)\n",
            "Requirement already satisfied: importlib_resources in /usr/local/lib/python3.11/dist-packages (from etils[epath,epy]->orbax-checkpoint->flax->nanodl) (6.5.2)\n",
            "Requirement already satisfied: zipp in /usr/local/lib/python3.11/dist-packages (from etils[epath,epy]->orbax-checkpoint->flax->nanodl) (3.21.0)\n",
            "Downloading nanodl-0.0.0-py3-none-any.whl (138 kB)\n",
            "\u001b[2K   \u001b[90m━━━━━━━━━━━━━━━━━━━━━━━━━━━━━━━━━━━━━━━━\u001b[0m \u001b[32m138.1/138.1 kB\u001b[0m \u001b[31m3.4 MB/s\u001b[0m eta \u001b[36m0:00:00\u001b[0m\n",
            "\u001b[?25hDownloading einops-0.8.1-py3-none-any.whl (64 kB)\n",
            "\u001b[2K   \u001b[90m━━━━━━━━━━━━━━━━━━━━━━━━━━━━━━━━━━━━━━━━\u001b[0m \u001b[32m64.4/64.4 kB\u001b[0m \u001b[31m4.6 MB/s\u001b[0m eta \u001b[36m0:00:00\u001b[0m\n",
            "\u001b[?25hInstalling collected packages: einops, nanodl\n",
            "Successfully installed einops-0.8.1 nanodl-0.0.0\n"
          ]
        }
      ]
    },
    {
      "cell_type": "code",
      "source": [
        "import jax\n",
        "import nanodl\n",
        "import jax.numpy as jnp\n",
        "from nanodl import ArrayDataset, DataLoader\n",
        "from nanodl import GPT4, GPTDataParallelTrainer\n",
        "\n",
        "batch_size = 8\n",
        "num_samples = 8000\n",
        "max_length = 50\n",
        "vocab_size = 1000\n",
        "\n",
        "data = nanodl.uniform(\n",
        "    shape=(num_samples, max_length),\n",
        "    minval=0, maxval=vocab_size-1\n",
        "    ).astype(jnp.int32)\n",
        "\n",
        "\n",
        "dummy_inputs, dummy_targets = data[:, :-1], data[:, 1:]\n",
        "\n",
        "dataset = ArrayDataset(dummy_inputs, dummy_targets)\n",
        "dataloader = DataLoader(\n",
        "    dataset, batch_size=batch_size, shuffle=True, drop_last=False\n",
        "    )\n",
        "\n",
        "hyperparams = {\n",
        "    'num_layers': 2,\n",
        "    'hidden_dim': 128,\n",
        "    'num_heads': 2,\n",
        "    'feedforward_dim': 128,\n",
        "    'dropout': 0.1,\n",
        "    'vocab_size': vocab_size,\n",
        "    'embed_dim': 128,\n",
        "    'max_length': max_length,\n",
        "    'start_token': 0,\n",
        "    'end_token': 50,\n",
        "}\n",
        "\n",
        "model = GPT4(**hyperparams)\n",
        "\n",
        "trainer = GPTDataParallelTrainer(\n",
        "    model,\n",
        "    dummy_inputs.shape,\n",
        "    'params.pkl',\n",
        "    learning_rate=1E-3,\n",
        "    )\n",
        "\n",
        "trainer.train(train_loader=dataloader, num_epochs=10)"
      ],
      "metadata": {
        "colab": {
          "base_uri": "https://localhost:8080/"
        },
        "collapsed": true,
        "id": "9yu2hJEQa80V",
        "outputId": "40b5d188-e66d-4a76-feb1-7157acebf997"
      },
      "id": "9yu2hJEQa80V",
      "execution_count": null,
      "outputs": [
        {
          "output_type": "stream",
          "name": "stdout",
          "text": [
            "Number of parameters: 1879292\n",
            "Number of accelerators: 8\n",
            "Epoch 1, Train Loss: 6.8678178787231445\n",
            "Epoch 2, Train Loss: 6.079052925109863\n",
            "Epoch 3, Train Loss: 5.33558988571167\n",
            "Epoch 4, Train Loss: 5.048905849456787\n",
            "Epoch 5, Train Loss: 4.776106357574463\n",
            "Epoch 6, Train Loss: 4.567427158355713\n",
            "Epoch 7, Train Loss: 4.424076557159424\n",
            "Epoch 8, Train Loss: 4.213206768035889\n",
            "Epoch 9, Train Loss: 3.9109644889831543\n",
            "Epoch 10, Train Loss: 3.69956636428833\n"
          ]
        }
      ]
    },
    {
      "cell_type": "markdown",
      "source": [
        "- **Maxtext**"
      ],
      "metadata": {
        "id": "RNHN9ZNtavzx"
      },
      "id": "RNHN9ZNtavzx"
    },
    {
      "cell_type": "markdown",
      "source": [
        "- **Maxdiffusion**"
      ],
      "metadata": {
        "id": "R9xYtqCoimwY"
      },
      "id": "R9xYtqCoimwY"
    }
  ],
  "metadata": {
    "kernelspec": {
      "display_name": "Python 3",
      "name": "python3"
    },
    "language_info": {
      "name": "python",
      "version": "3.8+"
    },
    "colab": {
      "provenance": [],
      "machine_shape": "hm",
      "gpuType": "V28",
      "collapsed_sections": [
        "2ec3c9d2",
        "ASbBwQqRyLSf",
        "Ch5uxwmZsfay",
        "b00b86eb",
        "1kTE2rZP2oWF",
        "b80d419f",
        "db0fe0e5",
        "1129ad24"
      ],
      "include_colab_link": true
    },
    "accelerator": "TPU"
  },
  "nbformat": 4,
  "nbformat_minor": 5
}